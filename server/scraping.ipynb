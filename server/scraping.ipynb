{
 "cells": [
  {
   "cell_type": "code",
   "execution_count": 4,
   "metadata": {},
   "outputs": [],
   "source": [
    "from bs4 import BeautifulSoup\n",
    "import requests\n",
    "\n",
    "def getURL(pokemon_name):\n",
    "    return f\"https://pokemondb.net/pokedex/{pokemon_name}\""
   ]
  },
  {
   "cell_type": "code",
   "execution_count": 6,
   "metadata": {},
   "outputs": [],
   "source": [
    "page = requests.get(getURL(\"bulbasaur\"))\n",
    "soup = BeautifulSoup(page.content, 'html.parser')"
   ]
  },
  {
   "cell_type": "code",
   "execution_count": 52,
   "metadata": {},
   "outputs": [],
   "source": [
    "tag = soup.find(id=\"dex-locations\")\n",
    "locations = tag.find_next_sibling().find_all(\"tr\")"
   ]
  },
  {
   "cell_type": "code",
   "execution_count": 53,
   "metadata": {},
   "outputs": [],
   "source": [
    "version_names_spans = [loc.find(\"th\").find_all(\"span\") for loc in locations]\n",
    "version_names = [[span.text for span in n] for n in version_names_spans]"
   ]
  },
  {
   "cell_type": "code",
   "execution_count": 63,
   "metadata": {},
   "outputs": [],
   "source": [
    "location_names_a = [loc.find(\"td\").find(\"a\") for loc in locations]\n",
    "location_names = [l.string if l else \"\" for l in location_names_a]"
   ]
  },
  {
   "cell_type": "code",
   "execution_count": 67,
   "metadata": {},
   "outputs": [
    {
     "data": {
      "text/plain": [
       "[(['Red', 'Blue'], 'Pallet Town'),\n",
       " (['Yellow'], 'Cerulean City'),\n",
       " (['Gold', 'Silver', 'Crystal'], ''),\n",
       " (['Ruby', 'Sapphire'], ''),\n",
       " (['FireRed', 'LeafGreen'], 'Pallet Town'),\n",
       " (['Emerald'], ''),\n",
       " (['Diamond', 'Pearl', 'Platinum'], ''),\n",
       " (['HeartGold', 'SoulSilver'], 'Pallet Town'),\n",
       " (['Black', 'White', 'Black 2', 'White 2'], ''),\n",
       " (['X', 'Y'], 'Lumiose City'),\n",
       " (['Omega Ruby', 'Alpha Sapphire'], ''),\n",
       " (['Sun', 'Moon'], ''),\n",
       " (['Ultra Sun', 'Ultra Moon'], 'Route 2'),\n",
       " ([\"Let's Go Pikachu\", \"Let's Go Eevee\"], 'Cerulean City'),\n",
       " (['Sword', 'Shield'], ''),\n",
       " (['Brilliant Diamond', 'Shining Pearl'], 'Grassland Cave'),\n",
       " (['Legends: Arceus'], ''),\n",
       " (['Scarlet', 'Violet'], '')]"
      ]
     },
     "execution_count": 67,
     "metadata": {},
     "output_type": "execute_result"
    }
   ],
   "source": [
    "location_details = zip(version_names, location_names)\n",
    "list(location_details)"
   ]
  },
  {
   "cell_type": "code",
   "execution_count": 79,
   "metadata": {},
   "outputs": [],
   "source": [
    "def get_location_info(pokemon_name):\n",
    "    page = requests.get(getURL(pokemon_name))\n",
    "    soup = BeautifulSoup(page.content, 'html.parser')\n",
    "\n",
    "    tag = soup.find(id=\"dex-locations\")\n",
    "    locations = tag.find_next_sibling().find_all(\"tr\")\n",
    "\n",
    "    version_names_spans = [loc.find(\"th\").find_all(\"span\") for loc in locations]\n",
    "    version_names = [[span.text for span in n] for n in version_names_spans]\n",
    "\n",
    "    location_names_a = [loc.find(\"td\").find_all() for loc in locations]\n",
    "    print(location_names_a)\n",
    "    location_names = [[loc.string for loc in l] if l else \"\" for l in location_names_a]\n",
    "\n",
    "    location_details = zip(version_names, location_names)\n",
    "    return list(location_details)"
   ]
  },
  {
   "cell_type": "code",
   "execution_count": 80,
   "metadata": {},
   "outputs": [
    {
     "name": "stdout",
     "output_type": "stream",
     "text": [
      "[[<a href=\"/location/alola-ulaula-meadow\">Ula'ula Meadow</a>, <a href=\"/location/alola-poni-meadow\">Poni Meadow</a>], [<a href=\"/location/alola-ulaula-meadow\">Ula'ula Meadow</a>, <a href=\"/location/alola-poni-meadow\">Poni Meadow</a>, <a href=\"/location/alola-heahea-beach\">Heahea Beach</a>], [<a href=\"/location/alola-ulaula-meadow\">Ula'ula Meadow</a>, <a href=\"/location/alola-poni-meadow\">Poni Meadow</a>], [<small>Not available in this game</small>], [<a href=\"/location/galar-stony-wilderness\">Stony Wilderness</a>], [<small>Not available in this game</small>], [<small>Location data not yet available</small>]]\n"
     ]
    },
    {
     "data": {
      "text/plain": [
       "[(['Sun', 'Moon'], [\"Ula'ula Meadow\", 'Poni Meadow']),\n",
       " (['Ultra Sun'], [\"Ula'ula Meadow\", 'Poni Meadow', 'Heahea Beach']),\n",
       " (['Ultra Moon'], [\"Ula'ula Meadow\", 'Poni Meadow']),\n",
       " ([\"Let's Go Pikachu\", \"Let's Go Eevee\"], ['Not available in this game']),\n",
       " (['Sword', 'Shield'], ['Stony Wilderness']),\n",
       " (['Brilliant Diamond', 'Shining Pearl', 'Legends: Arceus'],\n",
       "  ['Not available in this game']),\n",
       " (['Scarlet', 'Violet'], ['Location data not yet available'])]"
      ]
     },
     "execution_count": 80,
     "metadata": {},
     "output_type": "execute_result"
    }
   ],
   "source": [
    "get_location_info(\"ribombee\")"
   ]
  }
 ],
 "metadata": {
  "kernelspec": {
   "display_name": "base",
   "language": "python",
   "name": "python3"
  },
  "language_info": {
   "codemirror_mode": {
    "name": "ipython",
    "version": 3
   },
   "file_extension": ".py",
   "mimetype": "text/x-python",
   "name": "python",
   "nbconvert_exporter": "python",
   "pygments_lexer": "ipython3",
   "version": "3.11.3"
  }
 },
 "nbformat": 4,
 "nbformat_minor": 2
}
